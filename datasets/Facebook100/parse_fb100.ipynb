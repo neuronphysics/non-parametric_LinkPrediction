{
 "cells": [
  {
   "cell_type": "code",
   "execution_count": 1,
   "metadata": {},
   "outputs": [],
   "source": [
    "import pickle\n",
    "import os, sys, glob\n",
    "from collections import defaultdict\n",
    "import scipy.io"
   ]
  },
  {
   "cell_type": "code",
   "execution_count": 2,
   "metadata": {},
   "outputs": [],
   "source": [
    "node_attributes = ['second_major', 'gender', 'major_index', 'year', 'dorm', 'high_school', 'student_fac']\n",
    "\n",
    "attribute_dict = {\n",
    "    \"student_fac\" : 0,\n",
    "    \"gender\" : 1,\n",
    "    \"major_index\" : 2,\n",
    "    \"second_major\" : 3,\n",
    "    \"dorm\" : 4,\n",
    "    \"year\" : 5,\n",
    "    \"high_school\" : 6,\n",
    "    }"
   ]
  },
  {
   "cell_type": "code",
   "execution_count": 3,
   "metadata": {},
   "outputs": [],
   "source": [
    "university = ['Caltech36', 'Reed98', 'Haverford76', 'Simmons81', 'Swarthmore42']\n",
    "\n",
    "output_dir = \"../output\"\n",
    "source_dir = \"./Facebook100\""
   ]
  },
  {
   "cell_type": "code",
   "execution_count": 4,
   "metadata": {},
   "outputs": [],
   "source": [
    "os.makedirs(output_dir, exist_ok=True)\n",
    "# os.chdir(source_dir)"
   ]
  },
  {
   "attachments": {},
   "cell_type": "markdown",
   "metadata": {},
   "source": [
    "### Run this part"
   ]
  },
  {
   "cell_type": "code",
   "execution_count": 5,
   "metadata": {},
   "outputs": [],
   "source": [
    "def replace_files(input_files, output_files, output_dir='./'):\n",
    "    for input_file, output_file in zip(input_files, output_files):\n",
    "        output_file = os.path.join(output_dir, output_file)\n",
    "        with open(input_file, \"r\") as fin:\n",
    "            with open(output_file, \"w\") as fout:\n",
    "                for line in fin:\n",
    "                    fout.write(line.replace(',', '\\t'))\n"
   ]
  },
  {
   "cell_type": "code",
   "execution_count": 6,
   "metadata": {},
   "outputs": [],
   "source": [
    "university = ['Caltech36', 'Reed98', 'Haverford76', 'Simmons81', 'Swarthmore42']\n",
    "\n",
    "input_files = [uni+\"_adjacency.txt\" for uni in university]\n",
    "input_files.extend([uni+\"_attributes.txt\" for uni in university])\n",
    "output_files = [uni+\"_adj.txt\" for uni in university]\n",
    "output_files.extend([uni+\"_atr.txt\" for uni in university])\n",
    "\n",
    "replace_files(input_files, output_files, output_dir)"
   ]
  },
  {
   "attachments": {},
   "cell_type": "markdown",
   "metadata": {},
   "source": [
    "### Do not run this part"
   ]
  },
  {
   "cell_type": "code",
   "execution_count": null,
   "metadata": {},
   "outputs": [],
   "source": [
    "import numpy as np\n",
    "\n",
    "def sparse_scipy_to_file(matrix, output_file):\n",
    "\n",
    "    if not isinstance(matrix, np.ndarray):\n",
    "        matrix = matrix.toarray().astype(int)\n",
    "\n",
    "    matrix = [np.array2string(line, separator='\\t')[1:-1] for line in matrix]\n",
    "\n",
    "    with open(output_file, 'w') as f:\n",
    "        for l in matrix:\n",
    "            f.write(l + \"\\n\")\n"
   ]
  },
  {
   "cell_type": "code",
   "execution_count": null,
   "metadata": {},
   "outputs": [],
   "source": [
    "matlab_files = glob.glob(\"./*.mat\")\n",
    "matlab_files = filter(lambda fn: not(\"schools.mat\" in fn), matlab_files)"
   ]
  },
  {
   "cell_type": "code",
   "execution_count": null,
   "metadata": {},
   "outputs": [],
   "source": [
    "for matlab_file in matlab_files:\n",
    "    network_name = matlab_file.strip(\".\").strip(\"/\").split(\"/\")[-1].split(\".\")[0]\n",
    "    print(f\"Now parsing {network_name}\")\n",
    "    matlab_object = scipy.io.loadmat(matlab_file)\n",
    "    scipy_sparse_graph = matlab_object[\"A\"]\n",
    "    attributes_matrix = matlab_object[\"local_info\"]\n",
    "\n",
    "    sparse_scipy_to_file(scipy_sparse_graph, network_name + \"_adj.txt\")\n",
    "    sparse_scipy_to_file(attributes_matrix, network_name + \"_atr.txt\")\n",
    "\n"
   ]
  }
 ],
 "metadata": {
  "kernelspec": {
   "display_name": "base",
   "language": "python",
   "name": "python3"
  },
  "language_info": {
   "codemirror_mode": {
    "name": "ipython",
    "version": 3
   },
   "file_extension": ".py",
   "mimetype": "text/x-python",
   "name": "python",
   "nbconvert_exporter": "python",
   "pygments_lexer": "ipython3",
   "version": "3.10.9"
  },
  "orig_nbformat": 4
 },
 "nbformat": 4,
 "nbformat_minor": 2
}
